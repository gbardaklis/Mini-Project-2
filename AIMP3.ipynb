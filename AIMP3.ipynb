{
  "nbformat": 4,
  "nbformat_minor": 0,
  "metadata": {
    "colab": {
      "provenance": [],
      "include_colab_link": true
    },
    "kernelspec": {
      "name": "python3",
      "display_name": "Python 3"
    },
    "language_info": {
      "name": "python"
    }
  },
  "cells": [
    {
      "cell_type": "markdown",
      "metadata": {
        "id": "view-in-github",
        "colab_type": "text"
      },
      "source": [
        "<a href=\"https://colab.research.google.com/github/gbardaklis/Mini-Project-2/blob/main/AIMP3.ipynb\" target=\"_parent\"><img src=\"https://colab.research.google.com/assets/colab-badge.svg\" alt=\"Open In Colab\"/></a>"
      ]
    },
    {
      "cell_type": "code",
      "execution_count": null,
      "metadata": {
        "id": "o3xND0nU-Rw4"
      },
      "outputs": [],
      "source": [
        "class Car:\n",
        "  def __init__(carObj, name, size=2, fuel=100, dir=\"h\", posX=0,posY=0):\n",
        "    carObj.name = name\n",
        "    carObj.size = size\n",
        "    carObj.fuel = fuel\n",
        "    carObj.dir = dir\n",
        "    carObj.posX = posX\n",
        "    carObj.posY = posY\n"
      ]
    },
    {
      "cell_type": "code",
      "source": [
        "myCar = Car (name=\"heheh\")\n",
        "print(myCar.name)\n",
        "print(myCar.fuel)\n",
        "myCar.fuel = 12\n",
        "print(myCar.fuel)"
      ],
      "metadata": {
        "colab": {
          "base_uri": "https://localhost:8080/"
        },
        "id": "UEcBwXWWQW-k",
        "outputId": "4892aa59-51a7-4da0-910a-17ae7193b7e4"
      },
      "execution_count": null,
      "outputs": [
        {
          "output_type": "stream",
          "name": "stdout",
          "text": [
            "heheh\n",
            "100\n",
            "12\n"
          ]
        }
      ]
    },
    {
      "cell_type": "code",
      "source": [
        "import numpy as np \n",
        "import re as regex"
      ],
      "metadata": {
        "id": "ix9k9eIQBCWh"
      },
      "execution_count": null,
      "outputs": []
    },
    {
      "cell_type": "code",
      "source": [
        "testDelim = \"BBB..MCCDD.MAAKL.MJ.KLEEJ.GG..JHHHII J0 B4\"\n",
        "x = testDelim.split(\" \")\n",
        "print(x)\n",
        "print(x[1])\n",
        "\n",
        "for car in x :\n",
        "  carFuel = regex.split('\\D+', car[1])\n",
        "  print(carFuel)"
      ],
      "metadata": {
        "colab": {
          "base_uri": "https://localhost:8080/"
        },
        "id": "Pj4gZi8EFcrA",
        "outputId": "b5069219-75e8-45fb-8fb0-9be5c4e0e7c5"
      },
      "execution_count": null,
      "outputs": [
        {
          "output_type": "stream",
          "name": "stdout",
          "text": [
            "['BBB..MCCDD.MAAKL.MJ.KLEEJ.GG..JHHHII', 'J0', 'B4']\n",
            "J0\n",
            "['', '']\n",
            "['0']\n",
            "['4']\n"
          ]
        }
      ]
    },
    {
      "cell_type": "code",
      "source": [
        "test = \"BBIJ....IJCC..IAAMGDDK.MGH.KL.GHFFL.\"\n",
        "\n",
        "print(len(test))"
      ],
      "metadata": {
        "colab": {
          "base_uri": "https://localhost:8080/"
        },
        "id": "OpaRlOrQB_AF",
        "outputId": "af67939d-500b-4110-d773-252c31d7a049"
      },
      "execution_count": null,
      "outputs": [
        {
          "output_type": "stream",
          "name": "stdout",
          "text": [
            "36\n"
          ]
        }
      ]
    },
    {
      "cell_type": "code",
      "source": [
        "array = np.array(list(test)).reshape(6,6)\n",
        "print(array)\n",
        "print(array[4][1])\n",
        "print(array[1][2])"
      ],
      "metadata": {
        "colab": {
          "base_uri": "https://localhost:8080/"
        },
        "id": "1urq9cI9EgGc",
        "outputId": "63460f8e-e508-4b9a-9800-2539346338b7"
      },
      "execution_count": null,
      "outputs": [
        {
          "output_type": "stream",
          "name": "stdout",
          "text": [
            "[['B' 'B' 'I' 'J' '.' '.']\n",
            " ['.' '.' 'I' 'J' 'C' 'C']\n",
            " ['.' '.' 'I' 'A' 'A' 'M']\n",
            " ['G' 'D' 'D' 'K' '.' 'M']\n",
            " ['G' 'H' '.' 'K' 'L' '.']\n",
            " ['G' 'H' 'F' 'F' 'L' '.']]\n",
            "H\n",
            "I\n"
          ]
        }
      ]
    }
  ]
}