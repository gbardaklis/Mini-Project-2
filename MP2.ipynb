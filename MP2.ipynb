{
  "nbformat": 4,
  "nbformat_minor": 0,
  "metadata": {
    "colab": {
      "provenance": [],
      "authorship_tag": "ABX9TyP1zNukc5wy8dmADzMHsroi",
      "include_colab_link": true
    },
    "kernelspec": {
      "name": "python3",
      "display_name": "Python 3"
    },
    "language_info": {
      "name": "python"
    }
  },
  "cells": [
    {
      "cell_type": "markdown",
      "metadata": {
        "id": "view-in-github",
        "colab_type": "text"
      },
      "source": [
        "<a href=\"https://colab.research.google.com/github/gbardaklis/Mini-Project-2/blob/main/MP2.ipynb\" target=\"_parent\"><img src=\"https://colab.research.google.com/assets/colab-badge.svg\" alt=\"Open In Colab\"/></a>"
      ]
    },
    {
      "cell_type": "code",
      "execution_count": 8,
      "metadata": {
        "id": "tH6jHxmff82q",
        "colab": {
          "base_uri": "https://localhost:8080/"
        },
        "outputId": "cb09ba9c-b94f-4203-90aa-5cec793558f6"
      },
      "outputs": [
        {
          "output_type": "stream",
          "name": "stdout",
          "text": [
            "['BBIJ....IJCC..IAAMGDDK.MGH.KL.GHFFL.', '..I...BBI.K.GHAAKLGHDDKLG..JEEFF.J..', 'JBBCCCJDD..MJAAL.MFFKL.N..KGGN.HH...', 'BBB..MCCDD.MAAKL.MJ.KLEEJ.GG..JHHHII J0 B4', 'IJBBCCIJDDL.IJAAL.EEK.L...KFF..GGHH. F0 G6', 'BB.G.HE..G.HEAAG.I..FCCIDDF..I..F... \\n']\n"
          ]
        }
      ],
      "source": [
        "input = open('/content/sample-input.txt', 'r')\n",
        "puzzles = []\n",
        "for line in input.readlines():\n",
        "  if not line.startswith('#'):\n",
        "    if not line.startswith('\\n'):\n",
        "      puzzles = [line.rstrip('\\n') for line in puzzles]\n",
        "      puzzles = [line.rstrip(' ') for line in puzzles]\n",
        "      puzzles.append(line) \n",
        "input.close()\n",
        "# puzzles = [line.rstrip('\\n') for line in puzzles]\n",
        "# puzzles = [line.rstrip('\\n') for line in puzzles]\n",
        "print(puzzles)"
      ]
    },
    {
      "cell_type": "code",
      "source": [
        "import numpy as np"
      ],
      "metadata": {
        "id": "JA5D5UMrNJf0"
      },
      "execution_count": 2,
      "outputs": []
    },
    {
      "cell_type": "code",
      "source": [
        "# visualization is incorrect, array is correct :)\n",
        "test = np.array(list(puzzles[0])).reshape(6,6)\n",
        "print(test)"
      ],
      "metadata": {
        "colab": {
          "base_uri": "https://localhost:8080/"
        },
        "id": "9dww1Cl1NMZc",
        "outputId": "1db3c2c7-7855-4c94-91da-1faacc50e5ba"
      },
      "execution_count": 6,
      "outputs": [
        {
          "output_type": "stream",
          "name": "stdout",
          "text": [
            "[['B' 'B' 'I' 'J' '.' '.']\n",
            " ['.' '.' 'I' 'J' 'C' 'C']\n",
            " ['.' '.' 'I' 'A' 'A' 'M']\n",
            " ['G' 'D' 'D' 'K' '.' 'M']\n",
            " ['G' 'H' '.' 'K' 'L' '.']\n",
            " ['G' 'H' 'F' 'F' 'L' '.']]\n"
          ]
        }
      ]
    },
    {
      "cell_type": "code",
      "source": [
        "class Board: \n",
        "    def __init__(self, board):\n",
        "        self.board = board"
      ],
      "metadata": {
        "id": "oGWCuHGzPBMV"
      },
      "execution_count": 21,
      "outputs": []
    },
    {
      "cell_type": "code",
      "source": [
        "board1 = Board(board = \"BBB..MCCDD.MAAKL.MJ.KLEEJ.GG..JHHHII\")\n",
        "print(board1.board)"
      ],
      "metadata": {
        "colab": {
          "base_uri": "https://localhost:8080/"
        },
        "id": "anAYbii8Pl0t",
        "outputId": "53e92d13-cae2-47d5-8622-f640dee084c0"
      },
      "execution_count": 22,
      "outputs": [
        {
          "output_type": "stream",
          "name": "stdout",
          "text": [
            "BBB..MCCDD.MAAKL.MJ.KLEEJ.GG..JHHHII\n"
          ]
        }
      ]
    }
  ]
}