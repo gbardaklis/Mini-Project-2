{
  "nbformat": 4,
  "nbformat_minor": 0,
  "metadata": {
    "colab": {
      "provenance": [],
      "authorship_tag": "ABX9TyOETbcB2jPCNE7gpxwTNJy7",
      "include_colab_link": true
    },
    "kernelspec": {
      "name": "python3",
      "display_name": "Python 3"
    },
    "language_info": {
      "name": "python"
    }
  },
  "cells": [
    {
      "cell_type": "markdown",
      "metadata": {
        "id": "view-in-github",
        "colab_type": "text"
      },
      "source": [
        "<a href=\"https://colab.research.google.com/github/gbardaklis/Mini-Project-2/blob/main/MP2.ipynb\" target=\"_parent\"><img src=\"https://colab.research.google.com/assets/colab-badge.svg\" alt=\"Open In Colab\"/></a>"
      ]
    },
    {
      "cell_type": "code",
      "source": [
        "import numpy as np"
      ],
      "metadata": {
        "id": "VlLCgx-HdXFi"
      },
      "execution_count": null,
      "outputs": []
    },
    {
      "cell_type": "code",
      "execution_count": null,
      "metadata": {
        "id": "tH6jHxmff82q"
      },
      "outputs": [],
      "source": [
        "# this is good \n",
        "def __create_puzzle_list():\n",
        "  input = open('/content/sample-input.txt', 'r')\n",
        "  puzzles = []\n",
        "  for line in input.readlines():\n",
        "    if not line.startswith('#') and line.strip():\n",
        "        puzzles.append(line.strip()) \n",
        "  input.close()\n",
        "  return puzzles"
      ]
    },
    {
      "cell_type": "code",
      "source": [
        "puzzles = __create_puzzle_list();"
      ],
      "metadata": {
        "id": "Tm28fwcZcgs4"
      },
      "execution_count": null,
      "outputs": []
    },
    {
      "cell_type": "code",
      "source": [
        "def __get_fuel():\n",
        "  for x in puzzles:\n",
        "    test = x.split(\" \")\n",
        "    print(test)\n",
        "    # if only 0 then theres only a puzzle, default 100\n",
        "    # else fuel assigned\n",
        "    if len(test) > 0:\n",
        "      for i in range (1, len(test)):\n",
        "        fuelLevel = []\n",
        "        fuelLevel.append(test[i])\n",
        "        carSample=fuelLevel[0]\n",
        "        carSampleLetter = carSample[0]\n",
        "        carSampleFuel = carSample[1]\n",
        "        print(carSampleLetter)\n",
        "        print(carSampleFuel)\n",
        "        print(carSample)\n",
        "        print(fuelLevel)"
      ],
      "metadata": {
        "id": "u0Mnv8yMw29U"
      },
      "execution_count": 84,
      "outputs": []
    },
    {
      "cell_type": "code",
      "source": [
        "__get_fuel()"
      ],
      "metadata": {
        "colab": {
          "base_uri": "https://localhost:8080/"
        },
        "id": "Xm-3CEBEzowF",
        "outputId": "a0cb8edc-6991-43d7-fad7-10ffdb4db8ec"
      },
      "execution_count": 85,
      "outputs": [
        {
          "output_type": "stream",
          "name": "stdout",
          "text": [
            "['BBIJ....IJCC..IAAMGDDK.MGH.KL.GHFFL.']\n",
            "['..I...BBI.K.GHAAKLGHDDKLG..JEEFF.J..']\n",
            "['JBBCCCJDD..MJAAL.MFFKL.N..KGGN.HH...']\n",
            "['BBB..MCCDD.MAAKL.MJ.KLEEJ.GG..JHHHII', 'J0', 'B4']\n",
            "J\n",
            "0\n",
            "J0\n",
            "['J0']\n",
            "B\n",
            "4\n",
            "B4\n",
            "['B4']\n",
            "['IJBBCCIJDDL.IJAAL.EEK.L...KFF..GGHH.', 'F0', 'G6']\n",
            "F\n",
            "0\n",
            "F0\n",
            "['F0']\n",
            "G\n",
            "6\n",
            "G6\n",
            "['G6']\n",
            "['BB.G.HE..G.HEAAG.I..FCCIDDF..I..F...']\n"
          ]
        }
      ]
    },
    {
      "cell_type": "code",
      "source": [
        "# to make a board\n",
        "# board needs to be a list of boards\n",
        "class Board: \n",
        "  def __init__(self, board):\n",
        "      self.board = board"
      ],
      "metadata": {
        "id": "oGWCuHGzPBMV"
      },
      "execution_count": null,
      "outputs": []
    },
    {
      "cell_type": "code",
      "source": [
        "board1 = Board(board = \"BBB..MCCDD.MAAKL.MJ.KLEEJ.GG..JHHHII\")\n",
        "print(board1.board)"
      ],
      "metadata": {
        "colab": {
          "base_uri": "https://localhost:8080/"
        },
        "id": "anAYbii8Pl0t",
        "outputId": "0e733093-8c22-48e0-efae-8ca9644b8330"
      },
      "execution_count": null,
      "outputs": [
        {
          "output_type": "stream",
          "name": "stdout",
          "text": [
            "BBB..MCCDD.MAAKL.MJ.KLEEJ.GG..JHHHII\n"
          ]
        }
      ]
    },
    {
      "cell_type": "code",
      "source": [
        "board2 = Board(board = puzzles[0])\n",
        "print(board2.board)"
      ],
      "metadata": {
        "colab": {
          "base_uri": "https://localhost:8080/"
        },
        "id": "HTUItGaKgSTv",
        "outputId": "a9c86a68-db46-4acb-f9c1-b31f6f11c920"
      },
      "execution_count": null,
      "outputs": [
        {
          "output_type": "stream",
          "name": "stdout",
          "text": [
            "BBIJ....IJCC..IAAMGDDK.MGH.KL.GHFFL.\n"
          ]
        }
      ]
    },
    {
      "cell_type": "code",
      "source": [
        "# def __puzzle_output_ucs(input, filename):\n",
        "#   output = open(filename, \"w\")\n",
        "  # append rn maybe change to write \n",
        "output = open(\"/content/test.txt\", \"a\")\n",
        "for x in puzzles:\n",
        "  output.write(f\"Initial board configuration: {x} \\n\")\n",
        "\n",
        "# output.write(\"Car fuel available: \\n\")\n",
        "# output.write(\"Runtime: \\n\")\n",
        "# output.write(\"Search path length: \\n\")\n",
        "# output.write(\"Solution path length: \\n\")\n",
        "# output.write(\"Solution path: \\n\")"
      ],
      "metadata": {
        "id": "5ryhQdVBhXGl"
      },
      "execution_count": 40,
      "outputs": []
    },
    {
      "cell_type": "code",
      "source": [
        "# def __play_rush_hour_ucs():\n",
        "#   # returns list of puzzles \n",
        "#   puzzles = __create_puzzle_list();\n",
        "#   for index, input in enumerate(puzzles):\n",
        "#     __puzzle_output_ucs(input, f\"ucs-sol-{index+1}.txt\")\n"
      ],
      "metadata": {
        "id": "AAWPW9sfrCos"
      },
      "execution_count": null,
      "outputs": []
    },
    {
      "cell_type": "code",
      "source": [
        "# # visualization is incorrect, array is correct :)\n",
        "# test = np.array(list(puzzles[0])).reshape(6,6)\n",
        "# print(test)"
      ],
      "metadata": {
        "id": "9dww1Cl1NMZc"
      },
      "execution_count": null,
      "outputs": []
    },
    {
      "cell_type": "code",
      "source": [
        "# # array with fuel levels => as predicted does not work \n",
        "# testfuel = np.array(list(puzzles[3])).reshape(6,6)\n",
        "# print(testfuel)"
      ],
      "metadata": {
        "id": "xSNyN7ThTmBe"
      },
      "execution_count": null,
      "outputs": []
    },
    {
      "cell_type": "code",
      "source": [
        "# to parse the file\n",
        "# class PuzzleParser: \n",
        "#     def __init__(self, filename):\n",
        "#       self.file = filename\n",
        "\n",
        "#     def __create_puzzle_list(self):\n",
        "#       input = open('/content/sample-input.txt', 'r')\n",
        "#       puzzles = []\n",
        "#       for line in input.readlines():\n",
        "#         if not line.startswith('#'):\n",
        "#           if not line.startswith('\\n'):\n",
        "#             puzzles = [line.rstrip('\\n') for line in puzzles]\n",
        "#             puzzles = [line.rstrip(' ') for line in puzzles]\n",
        "#             puzzles.append(line) \n",
        "#       input.close()\n",
        "#       return puzzles"
      ],
      "metadata": {
        "id": "42es2tvhRh57"
      },
      "execution_count": null,
      "outputs": []
    }
  ]
}