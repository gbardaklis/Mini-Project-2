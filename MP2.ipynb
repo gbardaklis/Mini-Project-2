{
  "nbformat": 4,
  "nbformat_minor": 0,
  "metadata": {
    "colab": {
      "provenance": [],
      "authorship_tag": "ABX9TyOY5hv0iVW+A1k9DLcAMWZx",
      "include_colab_link": true
    },
    "kernelspec": {
      "name": "python3",
      "display_name": "Python 3"
    },
    "language_info": {
      "name": "python"
    }
  },
  "cells": [
    {
      "cell_type": "markdown",
      "metadata": {
        "id": "view-in-github",
        "colab_type": "text"
      },
      "source": [
        "<a href=\"https://colab.research.google.com/github/gbardaklis/Mini-Project-2/blob/main/MP2.ipynb\" target=\"_parent\"><img src=\"https://colab.research.google.com/assets/colab-badge.svg\" alt=\"Open In Colab\"/></a>"
      ]
    },
    {
      "cell_type": "code",
      "source": [
        "import numpy as np"
      ],
      "metadata": {
        "id": "vS6hGndDCDZ0"
      },
      "execution_count": 111,
      "outputs": []
    },
    {
      "cell_type": "code",
      "execution_count": null,
      "metadata": {
        "id": "tH6jHxmff82q"
      },
      "outputs": [],
      "source": [
        "# this is good \n",
        "def __create_puzzle_list():\n",
        "  input = open('/content/sample-input-2.txt', 'r')\n",
        "  puzzles = []\n",
        "  for line in input.readlines():\n",
        "    if not line.startswith('#') and line.strip():\n",
        "        puzzles.append(line.strip()) \n",
        "  input.close()\n",
        "  return puzzles"
      ]
    },
    {
      "cell_type": "code",
      "source": [
        "puzzles = __create_puzzle_list();"
      ],
      "metadata": {
        "id": "Tm28fwcZcgs4"
      },
      "execution_count": null,
      "outputs": []
    },
    {
      "cell_type": "code",
      "source": [
        "class Car:\n",
        "  def __init__(carObj, name, size=2, fuel=100, dir=\"h\", posX=0,posY=0):\n",
        "    carObj.name = name\n",
        "    carObj.size = size\n",
        "    carObj.fuel = fuel\n",
        "    carObj.dir = dir\n",
        "    carObj.posX = posX\n",
        "    carObj.posY = posY"
      ],
      "metadata": {
        "id": "KQq7NwE33h-5"
      },
      "execution_count": null,
      "outputs": []
    },
    {
      "cell_type": "code",
      "source": [
        "# seperates the fuel from the board \n",
        "def __get_fuel():\n",
        "  # a list of cars temp\n",
        "  carsTemp = []\n",
        "  # a list of car objects\n",
        "  cars = []\n",
        "  for x in puzzles:\n",
        "    puzzle_str = x.split(\" \")\n",
        "    # if only 0 then theres only a puzzle, default 100\n",
        "    # else fuel assigned\n",
        "    if len(puzzle_str) > 0:\n",
        "      for i in range (1, len(puzzle_str)):\n",
        "        carsTemp.append(puzzle_str[i])\n",
        "        carSample = carsTemp[i-1]\n",
        "        carSampleLetter = carSample[0]\n",
        "        carSampleFuel = carSample[1]\n",
        "        cars.append(Car (name = carSampleLetter, fuel = carSampleFuel))\n",
        "      return cars"
      ],
      "metadata": {
        "id": "u0Mnv8yMw29U"
      },
      "execution_count": null,
      "outputs": []
    },
    {
      "cell_type": "code",
      "source": [
        "a = __get_fuel()\n",
        "print(a[0].name)"
      ],
      "metadata": {
        "colab": {
          "base_uri": "https://localhost:8080/"
        },
        "id": "Xm-3CEBEzowF",
        "outputId": "218e00db-1cba-467b-ad38-fa6338f9d55f"
      },
      "execution_count": null,
      "outputs": [
        {
          "output_type": "stream",
          "name": "stdout",
          "text": [
            "J\n"
          ]
        }
      ]
    },
    {
      "cell_type": "code",
      "source": [
        "# def __output():\n",
        "output = open(\"/content/test.txt\", \"w\")\n",
        "for x in puzzles:\n",
        "  output.write(f\"Initial board configuration: {x} \\n\\n\")\n",
        "  splitted_line = x.split(\" \")\n",
        "  puzzlestr = splitted_line[0]\n",
        "  count = 0\n",
        "  for i in range(len(puzzlestr)):\n",
        "    output.write(puzzlestr[i] + \" \")\n",
        "    count += 1\n",
        "    if count == 6:\n",
        "      output.write(\"\\n\")\n",
        "      count = 0\n",
        "  output.write(\"\\n\")\n",
        "  output.write(\"Car fuel available: \")\n",
        "  for f in a: \n",
        "    output.write(f\"{f.name}:{f.fuel}, \")"
      ],
      "metadata": {
        "id": "4C12k-oH_2SF"
      },
      "execution_count": 110,
      "outputs": []
    },
    {
      "cell_type": "code",
      "source": [
        "char = []\n",
        "test_str = \"BBB..MCCDD.MAAKL.MJ.KLEEJ.GG..JHHHII\"\n",
        "# for x in test_str:\n",
        "letter = \"\"\n",
        "char.append(test_str.count(letter))\n",
        "print(char)"
      ],
      "metadata": {
        "colab": {
          "base_uri": "https://localhost:8080/"
        },
        "id": "8u7wLF3zC4jo",
        "outputId": "5dcce94c-edfc-4788-d51f-2c5238a6f159"
      },
      "execution_count": 119,
      "outputs": [
        {
          "output_type": "stream",
          "name": "stdout",
          "text": [
            "[2]\n"
          ]
        }
      ]
    },
    {
      "cell_type": "code",
      "source": [
        "test = np.array(list(puzzles[0])).reshape(6,6)\n",
        "print(test)"
      ],
      "metadata": {
        "id": "J2NrG7vbCCDT"
      },
      "execution_count": null,
      "outputs": []
    },
    {
      "cell_type": "code",
      "source": [
        "# to make a board\n",
        "# board needs to be a list of boards\n",
        "class Board: \n",
        "  def __init__(self, board):\n",
        "      self.board = board"
      ],
      "metadata": {
        "id": "oGWCuHGzPBMV"
      },
      "execution_count": null,
      "outputs": []
    },
    {
      "cell_type": "code",
      "source": [
        "board1 = Board(board = \"BBB..MCCDD.MAAKL.MJ.KLEEJ.GG..JHHHII\")\n",
        "print(board1.board)"
      ],
      "metadata": {
        "colab": {
          "base_uri": "https://localhost:8080/"
        },
        "id": "anAYbii8Pl0t",
        "outputId": "0e733093-8c22-48e0-efae-8ca9644b8330"
      },
      "execution_count": null,
      "outputs": [
        {
          "output_type": "stream",
          "name": "stdout",
          "text": [
            "BBB..MCCDD.MAAKL.MJ.KLEEJ.GG..JHHHII\n"
          ]
        }
      ]
    },
    {
      "cell_type": "code",
      "source": [
        "board2 = Board(board = puzzles[0])\n",
        "print(board2.board)"
      ],
      "metadata": {
        "colab": {
          "base_uri": "https://localhost:8080/"
        },
        "id": "HTUItGaKgSTv",
        "outputId": "a9c86a68-db46-4acb-f9c1-b31f6f11c920"
      },
      "execution_count": null,
      "outputs": [
        {
          "output_type": "stream",
          "name": "stdout",
          "text": [
            "BBIJ....IJCC..IAAMGDDK.MGH.KL.GHFFL.\n"
          ]
        }
      ]
    },
    {
      "cell_type": "code",
      "source": [
        "# def __play_rush_hour_ucs():\n",
        "#   # returns list of puzzles \n",
        "#   puzzles = __create_puzzle_list();\n",
        "#   for index, input in enumerate(puzzles):\n",
        "#     __puzzle_output_ucs(input, f\"ucs-sol-{index+1}.txt\")\n"
      ],
      "metadata": {
        "id": "AAWPW9sfrCos"
      },
      "execution_count": null,
      "outputs": []
    }
  ]
}