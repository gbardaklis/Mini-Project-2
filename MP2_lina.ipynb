{
  "nbformat": 4,
  "nbformat_minor": 0,
  "metadata": {
    "colab": {
      "provenance": [],
      "include_colab_link": true
    },
    "kernelspec": {
      "name": "python3",
      "display_name": "Python 3"
    },
    "language_info": {
      "name": "python"
    }
  },
  "cells": [
    {
      "cell_type": "markdown",
      "metadata": {
        "id": "view-in-github",
        "colab_type": "text"
      },
      "source": [
        "<a href=\"https://colab.research.google.com/github/gbardaklis/Mini-Project-2/blob/main/MP2_lina.ipynb\" target=\"_parent\"><img src=\"https://colab.research.google.com/assets/colab-badge.svg\" alt=\"Open In Colab\"/></a>"
      ]
    },
    {
      "cell_type": "markdown",
      "source": [
        "order of importance, \n",
        "car, \n",
        "board, \n",
        "puzzle parser"
      ],
      "metadata": {
        "id": "xrNklMqcZIrA"
      }
    },
    {
      "cell_type": "code",
      "source": [
        "# imports \n",
        "import copy\n",
        "import numpy as np"
      ],
      "metadata": {
        "id": "vS6hGndDCDZ0"
      },
      "execution_count": 4,
      "outputs": []
    },
    {
      "cell_type": "markdown",
      "source": [
        "# Position Class "
      ],
      "metadata": {
        "id": "J0wY0tLJmLRs"
      }
    },
    {
      "cell_type": "code",
      "source": [
        "class Position():\n",
        "  def __init__(self, posX, posY):\n",
        "    self.posX = posX\n",
        "    self.posY = posY\n",
        "  \n",
        "  def __str__(self):\n",
        "    return f\"({str(self.posX)},{str(self.posY)})\" "
      ],
      "metadata": {
        "id": "lh-58WkTmIBM"
      },
      "execution_count": null,
      "outputs": []
    },
    {
      "cell_type": "markdown",
      "source": [
        "# Car Class "
      ],
      "metadata": {
        "id": "SynE6VRvehxR"
      }
    },
    {
      "cell_type": "code",
      "source": [
        "class Car(object):\n",
        "  def __init__(self, name, position, fuel = 100, dir = \"v\"):\n",
        "    self.name = name\n",
        "    self.fuel = int(fuel)\n",
        "    self.dir = dir\n",
        "    self.positions = []\n",
        "    self.positions.append(position)\n",
        "\n",
        "  def getName(self) -> str:\n",
        "    return self.name; \n",
        "    \n",
        "  def isAmbulance(self) -> bool:\n",
        "    return self.name == 'A'\n",
        "\n",
        "  def isName(self, name) -> bool:\n",
        "    return self.name == name\n",
        "\n",
        "  # check if car has enough fuel to move, returns boolean\n",
        "  def canMove(self) -> bool:\n",
        "    return self.fuel > 0\n",
        "\n",
        "  # may need to be changed\n",
        "  def moveCarByLength(self, length):\n",
        "    if (self.direction == (dir == \"h\")):\n",
        "      for car in self.positions:\n",
        "        car.posX += length\n",
        "    else:\n",
        "      for car in self.positions:\n",
        "        car.posY += length\n",
        "    self.fuel -= length\n",
        "\n",
        "  def updatePosition(self, updatePosition):\n",
        "    self.positions.append(updatePosition)\n",
        "    if self.positions[0].posX == updatePosition.posX and self.positions[0].posY != updatePosition.posY:\n",
        "      self.direction = \"h\"\n",
        "    else:\n",
        "      self.direction = \"v\"\n",
        "\n",
        "  def __str__(self) -> str:\n",
        "    x = self.name + ' | '\n",
        "    for iter in self.positions: \n",
        "      x += str(iter)\n",
        "    return f\" {x} | {self.fuel} | {self.direction}\""
      ],
      "metadata": {
        "id": "KQq7NwE33h-5"
      },
      "execution_count": 83,
      "outputs": []
    },
    {
      "cell_type": "markdown",
      "source": [
        "# Board Class "
      ],
      "metadata": {
        "id": "RAmQEw6TmLPl"
      }
    },
    {
      "cell_type": "code",
      "source": [
        "class Board(object): \n",
        "  def __init__(self, cars):\n",
        "    self.cars = []\n",
        "    self.grid = [['.' for i in range(6)] for j in range(6)]\n",
        "    self.size = {'X': 6, 'Y': 6}\n",
        "    for car in cars:\n",
        "      carHolder = car\n",
        "      self.cars.append(copy.deepcopy(carHolder))\n",
        "      # updaying grid with the coordinate of the cars\n",
        "      for position in carHolder.positions:\n",
        "        # assign the letter at that position\n",
        "        self.grid[position.posX][position.posY] = car.name\n",
        "\n",
        "  def win(self):\n",
        "    if self.grid[2][5] == 'A':\n",
        "      return True\n",
        "    else:\n",
        "      return False\n",
        "\n",
        "  def pathForward(self, car):\n",
        "    direction = car.direction\n",
        "    position = car.positions[len(car.positions)-1]\n",
        "    if direction == 'h':\n",
        "      # may need to be swapped to posY, posX\n",
        "      head = position.posX\n",
        "    else:\n",
        "      head = position.posY\n",
        "    \n",
        "    moves = []\n",
        "    for iter in range(head+1, 6):\n",
        "      if car.fuel < iter-head:\n",
        "        continue\n",
        "      if direction == 'h':\n",
        "        gridPosition = self.grid[position.posX][iter]\n",
        "      else:\n",
        "        gridPosition = self.grid[iter][position.posY]\n",
        "      if gridPosition == '.':\n",
        "        moves.append(iter-head)\n",
        "      else:\n",
        "        break\n",
        "    return moves\n",
        "\n",
        "  def pathBackward(self, car):\n",
        "      direction = car.direction\n",
        "      position = car.positions[0]\n",
        "      if direction == 'h':\n",
        "        head = position.posX\n",
        "      else:\n",
        "        head = position.posY\n",
        "      \n",
        "      moves = []\n",
        "      for iter in range(head, 0, -1):\n",
        "        if car.fuel <= head-iter:\n",
        "          continue\n",
        "        if direction == 'h':\n",
        "          gridPosition = self.grid[position.posX][iter-1]\n",
        "        else:\n",
        "          gridPosition = self.grid[iter-1][position.posY]\n",
        "        if gridPosition == '.':\n",
        "          moves.append(iter-head-1)\n",
        "        else:\n",
        "          break\n",
        "      return moves\n",
        "\n",
        "  def findCarMoves(self, car):\n",
        "    if car.canMove():\n",
        "      forward = self.pathForward(car)\n",
        "      backward = self.pathBackward(car)\n",
        "      path = forward + backward\n",
        "    else: \n",
        "      path = []\n",
        "    return path\n",
        "\n",
        "  def moveCar(self, name, length):\n",
        "    for car in self.cars:\n",
        "      if car.name == name:\n",
        "        for position in car.positions:\n",
        "          self.grid[position.posX][position.posY] = '.'\n",
        "        car.moveCarByLength(length)\n",
        "        for position in car.positions:\n",
        "          self.grid[position.posX][position.posY] = name\n",
        "\n",
        "        # car != ambulance reached exit, coord (2,5) h direction, game needs to continue\n",
        "        if car.name == self.grid[2][5] and car.dir =='h' and car.name != 'A':\n",
        "          for position in car.positions: \n",
        "            self.grid[position.posX][position.posY] = '.'\n",
        "          self.cars.remove(car)\n",
        "\n",
        "        direction = \"\"\n",
        "        if length < 0 and car.direction == 'h':\n",
        "          direction = 'left'\n",
        "        if length > 0 and car.direction == 'h':\n",
        "          direction = 'right'\n",
        "        if length < 0 and car.direction == 'v':\n",
        "          direction = 'down'\n",
        "        if length > 0 and car.direction == 'v':\n",
        "          direction = 'up'\n",
        "        return name, direction, length, car.fuel, self.puzzle()\n",
        "\n",
        "  # populate grid\n",
        "  def puzzle(self):\n",
        "    puzzle = \"\"\n",
        "    for x in range(6):\n",
        "      for y in range(6):\n",
        "        puzzle += self.grid[x][y]\n",
        "    return puzzle\n",
        "\n",
        "  # grid default to string\n",
        "  def __str__(self): \n",
        "    puzzle = \"\"\n",
        "    for x in range(6):\n",
        "      for y in range(6):\n",
        "        puzzle += self.grid[x][y]\n",
        "      puzzle += \"\\n\" \n",
        "    return puzzle"
      ],
      "metadata": {
        "id": "oGWCuHGzPBMV"
      },
      "execution_count": 69,
      "outputs": []
    },
    {
      "cell_type": "markdown",
      "source": [
        "# PuzzleParser Class "
      ],
      "metadata": {
        "id": "8m3mgniYxOnO"
      }
    },
    {
      "cell_type": "code",
      "source": [
        "class PuzzleParser:\n",
        "  def createPuzzleList():\n",
        "      input = open('/content/sample-input.txt', 'r')\n",
        "      puzzles = []\n",
        "      for line in input.readlines():\n",
        "        if not line.startswith('#') and line.strip():\n",
        "            puzzles.append(line.split(\" \")) \n",
        "      input.close()\n",
        "      return puzzles"
      ],
      "metadata": {
        "id": "mkBtTr_Y3i6i"
      },
      "execution_count": 94,
      "outputs": []
    },
    {
      "cell_type": "markdown",
      "source": [
        "# Testing Game Set Up"
      ],
      "metadata": {
        "id": "A1R0S_mH0zk_"
      }
    },
    {
      "cell_type": "code",
      "source": [
        "puzzler = PuzzleParser\n",
        "puzzleMap = []\n",
        "puzzles = puzzler.createPuzzleList();\n",
        "\n",
        "for line in puzzles:\n",
        "  grid = line[0];\n",
        "  fuelLevel = []\n",
        "  if len(line) > 1:\n",
        "    fuelLevel.append(line[1:])\n",
        "\n",
        "  cars = []\n",
        "  for row in range(6):\n",
        "    for col in range(6):\n",
        "      current = grid[row*6 + col];\n",
        "      if current == \".\":\n",
        "        continue\n",
        "      isSame = True\n",
        "      for car in cars:\n",
        "        if car.isName(current):\n",
        "          car.updatePosition(Position(row, col))\n",
        "          isSame = False\n",
        "      if isSame:\n",
        "        fuelAmt = 100\n",
        "        if len(fuelLevel) > 0:\n",
        "          for fuel in fuelLevel[0]:\n",
        "            if current == fuel[0]:\n",
        "              fuelAmt = fuel[1:]\n",
        "\n",
        "        cars.append(Car (name = current, position = Position(row,col), fuel = fuelAmt))\n",
        "\n",
        "  board = Board(cars)\n",
        "  print(board)\n",
        "  for car in cars:\n",
        "    print(car)\n",
        "  print(\"---------------------------------\")\n",
        "  puzzleMap.append(board)"
      ],
      "metadata": {
        "id": "Jtat4w3y04d1"
      },
      "execution_count": null,
      "outputs": []
    },
    {
      "cell_type": "markdown",
      "source": [
        "# LIST OF UNUSED FUCTIONS ❗ 💯"
      ],
      "metadata": {
        "id": "EEhu5OWVw7s_"
      }
    },
    {
      "cell_type": "markdown",
      "source": [
        "This function returns a list of cars with their FUEL from the list of puzzles"
      ],
      "metadata": {
        "id": "giTjulOkenyM"
      }
    },
    {
      "cell_type": "code",
      "execution_count": 11,
      "metadata": {
        "id": "tH6jHxmff82q"
      },
      "outputs": [],
      "source": [
        "# this should become a PuzzleParser Class \n",
        "def __create_puzzle_list():\n",
        "    input = open('/content/sample-input-2.txt', 'r')\n",
        "    puzzles = []\n",
        "    for line in input.readlines():\n",
        "      if not line.startswith('#') and line.strip():\n",
        "          puzzles.append(line.strip()) \n",
        "    input.close()\n",
        "    return puzzles\n",
        "  \n",
        "  # seperates the fuel from the board \n",
        "def __get_fuel():\n",
        "    # a list of cars temp\n",
        "    carsTemp = []\n",
        "    # a list of car objects\n",
        "    cars = []\n",
        "    for x in puzzles:\n",
        "      puzzle_str = x.split(\" \")\n",
        "      # if only 0 then theres only a puzzle, default 100\n",
        "      # else fuel assigned\n",
        "      if len(puzzle_str) > 0:\n",
        "        for i in range (1, len(puzzle_str)):\n",
        "          carsTemp.append(puzzle_str[i])\n",
        "          carSample = carsTemp[i-1]\n",
        "          carSampleLetter = carSample[0]\n",
        "          carSampleFuel = carSample[1]\n",
        "          cars.append(Car (name = carSampleLetter, fuel = carSampleFuel))\n",
        "        return cars"
      ]
    },
    {
      "cell_type": "code",
      "source": [
        "puzzles = __create_puzzle_list();"
      ],
      "metadata": {
        "id": "Tm28fwcZcgs4"
      },
      "execution_count": 12,
      "outputs": []
    },
    {
      "cell_type": "code",
      "source": [
        "a = __get_fuel()\n",
        "print(a[0].name)"
      ],
      "metadata": {
        "id": "VUEO79MRYTLI"
      },
      "execution_count": null,
      "outputs": []
    },
    {
      "cell_type": "markdown",
      "source": [
        "Writes to a file the desired layout with the fuel and car name"
      ],
      "metadata": {
        "id": "8Z2YeaLue85n"
      }
    },
    {
      "cell_type": "code",
      "source": [
        "# def __output():\n",
        "output = open(\"/content/test.txt\", \"w\")\n",
        "for x in puzzles:\n",
        "  output.write(f\"Initial board configuration: {x} \\n\\n\")\n",
        "  splitted_line = x.split(\" \")\n",
        "  puzzlestr = splitted_line[0]\n",
        "  count = 0\n",
        "  for i in range(len(puzzlestr)):\n",
        "    output.write(puzzlestr[i] + \" \")\n",
        "    count += 1\n",
        "    if count == 6:\n",
        "      output.write(\"\\n\")\n",
        "      count = 0\n",
        "  output.write(\"\\n\")\n",
        "  output.write(\"Car fuel available: \")\n",
        "  for f in a: \n",
        "    output.write(f\"{f.name}:{f.fuel}, \")"
      ],
      "metadata": {
        "id": "4C12k-oH_2SF"
      },
      "execution_count": null,
      "outputs": []
    },
    {
      "cell_type": "markdown",
      "source": [
        "This takes in a puzzle string and counts the occurrences of the char to make the SIZE of the car"
      ],
      "metadata": {
        "id": "t_JjaeqRfFHh"
      }
    },
    {
      "cell_type": "code",
      "source": [
        "def __checkSize(puzzle): \n",
        "  cars = []\n",
        "  # Test case\n",
        "  # input_string = \"BBIJ....IJCC..IAAMGDDK.MGH.KL.GHFFL.\"\n",
        "  mySet = set(puzzle)\n",
        "  countOfChars = dict()\n",
        "  for element in mySet:\n",
        "      countOfChar = puzzle.count(element)\n",
        "      countOfChars[element] = countOfChar\n",
        "      if (element == \".\"):\n",
        "        continue;\n",
        "      else:  \n",
        "        cars.append(Car (name = element, size = countOfChar))\n",
        "\n",
        "  counter = 0;\n",
        "  for x in cars:\n",
        "    print (cars[counter].name + str(cars[counter].size) ) \n",
        "    counter += 1;  \n",
        "  return cars"
      ],
      "metadata": {
        "id": "neLf9MwsNokN"
      },
      "execution_count": null,
      "outputs": []
    },
    {
      "cell_type": "markdown",
      "source": [
        "Checks if a car is setup HORIZONTALLY"
      ],
      "metadata": {
        "id": "fCbVyOmbfruM"
      }
    },
    {
      "cell_type": "code",
      "source": [
        "def __checkHorizontal(puzzle): \n",
        "  uniqueHorizontal = []\n",
        "  for curr,next in zip(puzzle, puzzle[1:]): \n",
        "    if (curr == \".\"):\n",
        "      continue;\n",
        "    if (curr == next) :\n",
        "      uniqueHorizontal.append(curr)\n",
        "    else:\n",
        "      continue;\n",
        "  finalHorizontal = set(uniqueHorizontal)    \n",
        "  return finalHorizontal"
      ],
      "metadata": {
        "id": "h1Ij1T9-Trof"
      },
      "execution_count": null,
      "outputs": []
    },
    {
      "cell_type": "markdown",
      "source": [
        "This is the Check for Horizontal and Size Functions"
      ],
      "metadata": {
        "id": "0bBVF9wVhyF2"
      }
    },
    {
      "cell_type": "code",
      "source": [
        "newString = puzzles[0]\n",
        "newString = newString[:36]\n",
        "returnedHorizontalCar = __checkHorizontal(newString)\n",
        "print(returnedHorizontalCar)\n",
        "\n",
        "# print('\\n' + 'this is the checksize function')\n",
        "returnedCarSize = __checkSize(newString)\n",
        "print(returnedCarSize)"
      ],
      "metadata": {
        "id": "0oWZLHZfYzXi"
      },
      "execution_count": null,
      "outputs": []
    },
    {
      "cell_type": "markdown",
      "source": [
        "TO REVISIT "
      ],
      "metadata": {
        "id": "biiMZj2xzR9L"
      }
    },
    {
      "cell_type": "code",
      "source": [
        "#Combining Both lists\n",
        "counter2=0\n",
        "for (currentCar, horizontalCar) in zip(returnedCarSize, returnedHorizontalCar):\n",
        "\n",
        "  thisIsTheCar = returnedCarSize[counter2].name\n",
        "  if ( thisIsTheCar != horizontalCar):\n",
        "    print(\"this is not a match\" + thisIsTheCar + horizontalCar)\n",
        "  if ( thisIsTheCar == horizontalCar):\n",
        "    returnedCarSize[counter2].dir = \"h\"\n",
        "    counter2+=1  \n",
        "  else:\n",
        "    counter2+=1\n",
        "\n",
        "\n",
        "counter = 0;\n",
        "for x in returnedCarSize:\n",
        "    print (returnedCarSize[counter].name + str(returnedCarSize[counter].size) + returnedCarSize[counter].dir) \n",
        "    counter += 1;  \n",
        "# print(returnedCarSize[0].dir) \n"
      ],
      "metadata": {
        "id": "0n61m0e0k4ub"
      },
      "execution_count": null,
      "outputs": []
    },
    {
      "cell_type": "markdown",
      "source": [
        "Slices the puzzle string into 36 chars (6x6) passes into ndarray "
      ],
      "metadata": {
        "id": "0UFLD0kdh4u7"
      }
    },
    {
      "cell_type": "code",
      "source": [
        "newString = puzzles[0]\n",
        "newString = newString[:36]\n",
        "print(newString)\n",
        "\n",
        "test = np.array(list(newString)).reshape(6,6)\n",
        "print(test)\n",
        "print(test[0][4])\n",
        "print(type(test))\n",
        "\n"
      ],
      "metadata": {
        "id": "J2NrG7vbCCDT",
        "colab": {
          "base_uri": "https://localhost:8080/"
        },
        "outputId": "38484840-30f3-4031-81cc-782165b64484"
      },
      "execution_count": null,
      "outputs": [
        {
          "output_type": "stream",
          "name": "stdout",
          "text": [
            "BBB..MCCDD.MAAKL.MJ.KLEEJ.GG..JHHHII\n",
            "[['B' 'B' 'B' '.' '.' 'M']\n",
            " ['C' 'C' 'D' 'D' '.' 'M']\n",
            " ['A' 'A' 'K' 'L' '.' 'M']\n",
            " ['J' '.' 'K' 'L' 'E' 'E']\n",
            " ['J' '.' 'G' 'G' '.' '.']\n",
            " ['J' 'H' 'H' 'H' 'I' 'I']]\n",
            ".\n",
            "<class 'numpy.ndarray'>\n"
          ]
        }
      ]
    },
    {
      "cell_type": "code",
      "source": [
        "board1 = Board(board = \"BBB..MCCDD.MAAKL.MJ.KLEEJ.GG..JHHHII\")\n",
        "print(board1.board)"
      ],
      "metadata": {
        "colab": {
          "base_uri": "https://localhost:8080/"
        },
        "id": "anAYbii8Pl0t",
        "outputId": "0e733093-8c22-48e0-efae-8ca9644b8330"
      },
      "execution_count": null,
      "outputs": [
        {
          "output_type": "stream",
          "name": "stdout",
          "text": [
            "BBB..MCCDD.MAAKL.MJ.KLEEJ.GG..JHHHII\n"
          ]
        }
      ]
    },
    {
      "cell_type": "code",
      "source": [
        "board2 = Board(board = puzzles[0])\n",
        "print(board2.board)"
      ],
      "metadata": {
        "colab": {
          "base_uri": "https://localhost:8080/"
        },
        "id": "HTUItGaKgSTv",
        "outputId": "a9c86a68-db46-4acb-f9c1-b31f6f11c920"
      },
      "execution_count": null,
      "outputs": [
        {
          "output_type": "stream",
          "name": "stdout",
          "text": [
            "BBIJ....IJCC..IAAMGDDK.MGH.KL.GHFFL.\n"
          ]
        }
      ]
    },
    {
      "cell_type": "code",
      "source": [
        "# def __play_rush_hour_ucs():\n",
        "#   # returns list of puzzles \n",
        "#   puzzles = __create_puzzle_list();\n",
        "#   for index, input in enumerate(puzzles):\n",
        "#     __puzzle_output_ucs(input, f\"ucs-sol-{index+1}.txt\")\n"
      ],
      "metadata": {
        "id": "AAWPW9sfrCos"
      },
      "execution_count": null,
      "outputs": []
    },
    {
      "cell_type": "code",
      "source": [
        "# NOT GOING TO BE USED \n",
        "# Makes a DICT of occurrences and chars\n",
        "test = \"BBIJ....IJCC..IAAMGDDK.MGH.KL.GHFFL.\"\n",
        "\n",
        "letterDict = dict()\n",
        "\n",
        "# print(letterDict)\n",
        "\n",
        "letterList = []\n",
        "\n",
        "for x in test:\n",
        "  occurences = test.count(x)\n",
        "  # print(occurences)\n",
        "  if (x == \".\") or (x in letterList):\n",
        "    continue; \n",
        "  else:\n",
        "    letterList.append(f\"{x} + {occurences}\")\n",
        "    \n",
        "finalList = set(letterList)\n",
        "print(finalList)"
      ],
      "metadata": {
        "colab": {
          "base_uri": "https://localhost:8080/"
        },
        "id": "UonrAMEAIwkK",
        "outputId": "001ca36e-fcd8-4904-d009-01713194f08b"
      },
      "execution_count": null,
      "outputs": [
        {
          "output_type": "stream",
          "name": "stdout",
          "text": [
            "{'G + 3', 'A + 2', 'D + 2', 'I + 3', 'C + 2', 'H + 2', 'F + 2', 'B + 2', 'J + 2', 'K + 2', 'M + 2', 'L + 2'}\n"
          ]
        }
      ]
    }
  ]
}