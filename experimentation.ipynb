{
  "nbformat": 4,
  "nbformat_minor": 0,
  "metadata": {
    "colab": {
      "provenance": [],
      "authorship_tag": "ABX9TyMJnr3mqCCxUcBRfFGiJLfa",
      "include_colab_link": true
    },
    "kernelspec": {
      "name": "python3",
      "display_name": "Python 3"
    },
    "language_info": {
      "name": "python"
    }
  },
  "cells": [
    {
      "cell_type": "markdown",
      "metadata": {
        "id": "view-in-github",
        "colab_type": "text"
      },
      "source": [
        "<a href=\"https://colab.research.google.com/github/gbardaklis/Mini-Project-2/blob/main/experimentation.ipynb\" target=\"_parent\"><img src=\"https://colab.research.google.com/assets/colab-badge.svg\" alt=\"Open In Colab\"/></a>"
      ]
    },
    {
      "cell_type": "code",
      "source": [
        "#imports\n",
        "import numpy as np\n"
      ],
      "metadata": {
        "id": "_EdUfvVhakkm"
      },
      "execution_count": 2,
      "outputs": []
    },
    {
      "cell_type": "code",
      "execution_count": 1,
      "metadata": {
        "id": "1EiArDqI6Cnh",
        "colab": {
          "base_uri": "https://localhost:8080/"
        },
        "outputId": "bff71d8f-4738-40be-9d24-ceb409653e14"
      },
      "outputs": [
        {
          "output_type": "stream",
          "name": "stdout",
          "text": [
            "['BBIJ....IJCC..IAAMGDDK.MGH.KL.GHFFL.', '..I...BBI.K.GHAAKLGHDDKLG..JEEFF.J..', 'JBBCCCJDD..MJAAL.MFFKL.N..KGGN.HH...', 'BBB..MCCDD.MAAKL.MJ.KLEEJ.GG..JHHHII J0 B4', 'IJBBCCIJDDL.IJAAL.EEK.L...KFF..GGHH. F0 G6', 'BB.G.HE..G.HEAAG.I..FCCIDDF..I..F... \\n']\n"
          ]
        }
      ],
      "source": [
        "input = open('/content/sample-input.txt', 'r')\n",
        "puzzles = []\n",
        "for line in input.readlines():\n",
        "  if not line.startswith('#'):\n",
        "    if not line.startswith('\\n'):\n",
        "      puzzles = [line.rstrip('\\n') for line in puzzles]\n",
        "      puzzles = [line.rstrip(' ') for line in puzzles]\n",
        "      puzzles.append(line) \n",
        "input.close()\n",
        "# puzzles = [line.rstrip('\\n') for line in puzzles]\n",
        "# puzzles = [line.rstrip('\\n') for line in puzzles]\n",
        "print(puzzles)\n"
      ]
    },
    {
      "cell_type": "code",
      "source": [
        "test = np.array(list(puzzles[0])).reshape(6,6)\n",
        "print(test)"
      ],
      "metadata": {
        "colab": {
          "base_uri": "https://localhost:8080/"
        },
        "id": "DUEpiyNdarUI",
        "outputId": "9e15be3f-0250-421d-ec51-e454135fd60a"
      },
      "execution_count": 3,
      "outputs": [
        {
          "output_type": "stream",
          "name": "stdout",
          "text": [
            "[['B' 'B' 'I' 'J' '.' '.']\n",
            " ['.' '.' 'I' 'J' 'C' 'C']\n",
            " ['.' '.' 'I' 'A' 'A' 'M']\n",
            " ['G' 'D' 'D' 'K' '.' 'M']\n",
            " ['G' 'H' '.' 'K' 'L' '.']\n",
            " ['G' 'H' 'F' 'F' 'L' '.']]\n"
          ]
        }
      ]
    },
    {
      "cell_type": "code",
      "source": [
        "class Board: \n",
        "    def __init__(self, board):\n",
        "        self.board = board\n",
        "\n"
      ],
      "metadata": {
        "id": "l6TTSzGOrCGf"
      },
      "execution_count": null,
      "outputs": []
    },
    {
      "cell_type": "code",
      "source": [
        "class Car(object):\n",
        "  def __init__(self, name, fuel=100, dir=\"h\", posX=0,posY=0):\n",
        "    self.name = name\n",
        "    self.size = {}\n",
        "    self.fuel = fuel\n",
        "    self.dir = dir\n",
        "    self.posX = posX\n",
        "    self.posY = posY"
      ],
      "metadata": {
        "id": "pPPLxJkI5W3b"
      },
      "execution_count": 8,
      "outputs": []
    },
    {
      "cell_type": "code",
      "source": [
        "#define heuristics h1-h4\n",
        "#h1: number of blocking vehicles\n",
        "def h1(self, heuristic1):\n",
        "  blockingVehicles = []\n",
        "  ambulance = heuristic1[2]\n",
        "  ambulancePosition = np.argwhere(ambulance == 'A')\n",
        "  exit = ambulance[self.size['A'] - 1][0]\n",
        "  for x in range(exit + 1, 6):\n",
        "    if ambulance[x] != '.' and ambulance[x] not in blockingVehicles:\n",
        "      blockingVehicles.append(self.array[2][x])\n",
        "      return len(blockingVehicles)\n",
        "\n",
        "#h2: number of blocked positions\n",
        "def h2(self, heuristic2):\n",
        "  blockedPositions = []\n",
        "  ambulance = heuristic2[2]\n",
        "  ambulancePosition = np.argwhere(ambulance == 'A')\n",
        "  exit = ambulance[self.size['A'] - 1][0]\n",
        "  for x in range(exit + 1, 6):\n",
        "    if self.array[2][x] != '.':\n",
        "      blockedPositions.append(self.array[2][x])\n",
        "      return len(blockedPositions)\n",
        "#h3: value of h1 multiplied by a constant (lambda)\n",
        "def h3(self, heuristic3):\n",
        "  constant = 3\n",
        "  return self.h1(heuristic3) * constant\n",
        "#h4: your own admissible heuristic\n",
        "def h4(self):\n",
        "  return "
      ],
      "metadata": {
        "id": "VBb-mTLzyAf0"
      },
      "execution_count": null,
      "outputs": []
    }
  ]
}