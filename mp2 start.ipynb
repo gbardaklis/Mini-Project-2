{
 "cells": [
  {
   "cell_type": "code",
   "execution_count": 87,
   "id": "9eacee7d",
   "metadata": {},
   "outputs": [],
   "source": [
    "class Board: \n",
    "    def __init__(self, board, fuel):\n",
    "        self.puzzleBoard = board\n",
    "        self.carFuel = fuel"
   ]
  },
  {
   "cell_type": "code",
   "execution_count": 88,
   "id": "e83e3c42",
   "metadata": {},
   "outputs": [
    {
     "ename": "AttributeError",
     "evalue": "type object 'Board' has no attribute 'puzzleBoard'",
     "output_type": "error",
     "traceback": [
      "\u001b[0;31m---------------------------------------------------------------------------\u001b[0m",
      "\u001b[0;31mAttributeError\u001b[0m                            Traceback (most recent call last)",
      "Cell \u001b[0;32mIn [88], line 2\u001b[0m\n\u001b[1;32m      1\u001b[0m Board(\u001b[38;5;124m\"\u001b[39m\u001b[38;5;124mBBB..MCCDD.MAAKL.MJ.KLEEJ.GG..JHHHII\u001b[39m\u001b[38;5;124m\"\u001b[39m, \u001b[38;5;124m\"\u001b[39m\u001b[38;5;124mJ0 B4\u001b[39m\u001b[38;5;124m\"\u001b[39m)\n\u001b[0;32m----> 2\u001b[0m \u001b[38;5;28mprint\u001b[39m(\u001b[38;5;124m\"\u001b[39m\u001b[38;5;124mboard is \u001b[39m\u001b[38;5;124m\"\u001b[39m \u001b[38;5;241m+\u001b[39m Board\u001b[38;5;241m.\u001b[39mpuzzleBoard \u001b[38;5;241m+\u001b[39m \u001b[38;5;124m\"\u001b[39m\u001b[38;5;124mand fuel is \u001b[39m\u001b[38;5;124m\"\u001b[39m \u001b[38;5;241m+\u001b[39m Board\u001b[38;5;241m.\u001b[39mfuel)\n",
      "\u001b[0;31mAttributeError\u001b[0m: type object 'Board' has no attribute 'puzzleBoard'"
     ]
    }
   ],
   "source": [
    "Board(\"BBB..MCCDD.MAAKL.MJ.KLEEJ.GG..JHHHII\", \"J0 B4\")\n",
    "print(\"board is \" + Board.puzzleBoard + \"and fuel is \" + Board.fuel)"
   ]
  },
  {
   "cell_type": "code",
   "execution_count": 103,
   "id": "beb467de",
   "metadata": {},
   "outputs": [
    {
     "name": "stdout",
     "output_type": "stream",
     "text": [
      "['BBIJ....IJCC..IAAMGDDK.MGH.KL.GHFFL.', '..I...BBI.K.GHAAKLGHDDKLG..JEEFF.J..', 'JBBCCCJDD..MJAAL.MFFKL.N..KGGN.HH...', 'BBB..MCCDD.MAAKL.MJ.KLEEJ.GG..JHHHII J0 B4', 'IJBBCCIJDDL.IJAAL.EEK.L...KFF..GGHH. F0 G6', 'BB.G.HE..G.HEAAG.I..FCCIDDF..I..F...']\n"
     ]
    }
   ],
   "source": [
    "input = open('/Users/linatranl/Desktop/sample-input.txt', 'r')\n",
    "puzzles = []\n",
    "for line in input.readlines():\n",
    "  if not line.startswith('#'):\n",
    "    if not line.startswith('\\n'):\n",
    "      puzzles = [line.rstrip('\\n') for line in puzzles]\n",
    "      puzzles = [line.rstrip(' ') for line in puzzles]\n",
    "      puzzles.append(line) \n",
    "input.close()\n",
    "print(puzzles)\n"
   ]
  },
  {
   "cell_type": "code",
   "execution_count": 106,
   "id": "09be67b9",
   "metadata": {},
   "outputs": [
    {
     "name": "stdout",
     "output_type": "stream",
     "text": [
      "BBIJ....IJCC..IAAMGDDK.MGH.KL.GHFFL.\n"
     ]
    }
   ],
   "source": [
    "print(puzzles[0])"
   ]
  },
  {
   "cell_type": "code",
   "execution_count": 110,
   "id": "179eee6d",
   "metadata": {},
   "outputs": [],
   "source": [
    "import numpy as np"
   ]
  },
  {
   "cell_type": "code",
   "execution_count": 111,
   "id": "123e8ddf",
   "metadata": {},
   "outputs": [
    {
     "ename": "TypeError",
     "evalue": "'list' object is not callable",
     "output_type": "error",
     "traceback": [
      "\u001b[0;31m---------------------------------------------------------------------------\u001b[0m",
      "\u001b[0;31mTypeError\u001b[0m                                 Traceback (most recent call last)",
      "Cell \u001b[0;32mIn [111], line 1\u001b[0m\n\u001b[0;32m----> 1\u001b[0m hello \u001b[38;5;241m=\u001b[39m \u001b[38;5;28mlist\u001b[39m(\u001b[38;5;124m\"\u001b[39m\u001b[38;5;124mshksdhskhdks\u001b[39m\u001b[38;5;124m\"\u001b[39m)\n\u001b[1;32m      2\u001b[0m \u001b[38;5;28mprint\u001b[39m(\u001b[38;5;28mtype\u001b[39m(hello))\n",
      "\u001b[0;31mTypeError\u001b[0m: 'list' object is not callable"
     ]
    }
   ],
   "source": [
    "hello = list(\"shksdhskhdks\")\n",
    "print(type(hello))"
   ]
  },
  {
   "cell_type": "code",
   "execution_count": 112,
   "id": "d940bde7",
   "metadata": {},
   "outputs": [
    {
     "ename": "TypeError",
     "evalue": "'list' object is not callable",
     "output_type": "error",
     "traceback": [
      "\u001b[0;31m---------------------------------------------------------------------------\u001b[0m",
      "\u001b[0;31mTypeError\u001b[0m                                 Traceback (most recent call last)",
      "Cell \u001b[0;32mIn [112], line 1\u001b[0m\n\u001b[0;32m----> 1\u001b[0m test \u001b[38;5;241m=\u001b[39m np\u001b[38;5;241m.\u001b[39marray(\u001b[38;5;28mlist\u001b[39m(puzzles[\u001b[38;5;241m0\u001b[39m]))\u001b[38;5;241m.\u001b[39mreshape(\u001b[38;5;241m6\u001b[39m,\u001b[38;5;241m6\u001b[39m)\n\u001b[1;32m      2\u001b[0m \u001b[38;5;28mprint\u001b[39m(test)\n",
      "\u001b[0;31mTypeError\u001b[0m: 'list' object is not callable"
     ]
    }
   ],
   "source": [
    "test = np.array(list(puzzles[0])).reshape(6,6)\n",
    "print(test)"
   ]
  },
  {
   "cell_type": "code",
   "execution_count": 60,
   "id": "9faa5b02",
   "metadata": {},
   "outputs": [
    {
     "name": "stdout",
     "output_type": "stream",
     "text": [
      "..I...BBI.K.GHAAKLGHDDKLG..JEEFF.J.. \n"
     ]
    }
   ],
   "source": [
    "print(puzzles[1])"
   ]
  },
  {
   "cell_type": "code",
   "execution_count": 61,
   "id": "2e0772e2",
   "metadata": {},
   "outputs": [
    {
     "name": "stdout",
     "output_type": "stream",
     "text": [
      "JBBCCCJDD..MJAAL.MFFKL.N..KGGN.HH... \n"
     ]
    }
   ],
   "source": [
    "print(puzzles[2])"
   ]
  },
  {
   "cell_type": "code",
   "execution_count": 62,
   "id": "a5814312",
   "metadata": {},
   "outputs": [
    {
     "name": "stdout",
     "output_type": "stream",
     "text": [
      "BBB..MCCDD.MAAKL.MJ.KLEEJ.GG..JHHHII J0 B4\n"
     ]
    }
   ],
   "source": [
    "print(puzzles[3])"
   ]
  },
  {
   "cell_type": "code",
   "execution_count": 63,
   "id": "5c3ed42e",
   "metadata": {},
   "outputs": [
    {
     "name": "stdout",
     "output_type": "stream",
     "text": [
      "IJBBCCIJDDL.IJAAL.EEK.L...KFF..GGHH. F0 G6\n"
     ]
    }
   ],
   "source": [
    "print(puzzles[4])"
   ]
  },
  {
   "cell_type": "code",
   "execution_count": 64,
   "id": "04e16070",
   "metadata": {},
   "outputs": [
    {
     "name": "stdout",
     "output_type": "stream",
     "text": [
      "BB.G.HE..G.HEAAG.I..FCCIDDF..I..F... \n"
     ]
    }
   ],
   "source": [
    "print(puzzles[5])"
   ]
  },
  {
   "cell_type": "code",
   "execution_count": 36,
   "id": "e86b084e",
   "metadata": {},
   "outputs": [
    {
     "name": "stdout",
     "output_type": "stream",
     "text": [
      "[['B', 'B', 'I', 'J', '.', '.', '.', '.', 'I', 'J', 'C', 'C', '.', '.', 'I', 'A', 'A', 'M', 'G', 'D', 'D', 'K', '.', 'M', 'G', 'H', '.', 'K', 'L', '.', 'G', 'H', 'F', 'F', 'L', '.', ' ']]\n"
     ]
    }
   ],
   "source": [
    "puzzle = []\n",
    "row = []\n",
    "for line in PUZZLES[0]:\n",
    "  #print(line)\n",
    "  row.append(line)\n",
    "puzzle.append(row)\n",
    "print(puzzle)"
   ]
  },
  {
   "cell_type": "code",
   "execution_count": 50,
   "id": "274e4c2d",
   "metadata": {},
   "outputs": [],
   "source": [
    "board = []\n",
    "for x in range(0, 6):\n",
    "    board.append([\"x\"] * 6)"
   ]
  },
  {
   "cell_type": "code",
   "execution_count": null,
   "id": "67b83337",
   "metadata": {},
   "outputs": [],
   "source": [
    "for row in a:\n",
    "    print \" \".join(row)"
   ]
  }
 ],
 "metadata": {
  "kernelspec": {
   "display_name": "Python 3 (ipykernel)",
   "language": "python",
   "name": "python3"
  },
  "language_info": {
   "codemirror_mode": {
    "name": "ipython",
    "version": 3
   },
   "file_extension": ".py",
   "mimetype": "text/x-python",
   "name": "python",
   "nbconvert_exporter": "python",
   "pygments_lexer": "ipython3",
   "version": "3.10.7"
  }
 },
 "nbformat": 4,
 "nbformat_minor": 5
}
